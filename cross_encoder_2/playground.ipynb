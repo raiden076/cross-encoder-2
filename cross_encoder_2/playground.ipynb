{
 "cells": [
  {
   "attachments": {},
   "cell_type": "markdown",
   "metadata": {},
   "source": [
    "# Prototype implementation of cross encoder using MS-MARCO dataset for semantic search similarity.\n"
   ]
  },
  {
   "cell_type": "code",
   "execution_count": 1,
   "metadata": {},
   "outputs": [],
   "source": [
    "import torch\n",
    "import torch.nn as nn\n",
    "import torch.optim as optim\n",
    "from torch.utils.data import Dataset, DataLoader\n",
    "# import numpy as np\n",
    "# import random\n",
    "\n",
    "import pandas as pd\n",
    "from sklearn.model_selection import train_test_split\n"
   ]
  },
  {
   "cell_type": "code",
   "execution_count": 2,
   "metadata": {},
   "outputs": [],
   "source": [
    "class CrossEncoder(nn.Module):\n",
    "    def __init__(self, input_size, hidden_size, num_layers, output_size, dropout=0.1):\n",
    "        super(CrossEncoder, self).__init__()\n",
    "        self.input_size = input_size\n",
    "        self.hidden_size = hidden_size\n",
    "        self.num_layers = num_layers\n",
    "        self.output_size = output_size\n",
    "\n",
    "        self.embedding = nn.Embedding(input_size, hidden_size)\n",
    "        self.lstm = nn.LSTM(hidden_size, hidden_size, num_layers, batch_first=True, dropout=dropout, bidirectional=True)\n",
    "        self.attention = nn.MultiheadAttention(hidden_size * 2, 8)\n",
    "        self.fc = nn.Linear(hidden_size * 4, output_size)\n",
    "\n",
    "    def forward(self, query, document):\n",
    "        query_emb = self.embedding(query)\n",
    "        doc_emb = self.embedding(document)\n",
    "        \n",
    "        query_out, _ = self.lstm(query_emb)\n",
    "        doc_out, _ = self.lstm(doc_emb)\n",
    "\n",
    "        attn_out, _ = self.attention(query_out.transpose(0, 1), doc_out.transpose(0, 1), doc_out.transpose(0, 1))\n",
    "        attn_out = attn_out.transpose(0, 1)\n",
    "\n",
    "        concat_out = torch.cat((query_out, attn_out), dim=-1)\n",
    "        logits = self.fc(concat_out)\n",
    "\n",
    "        similarity = torch.sigmoid(torch.max(logits, dim=1)[0])\n",
    "\n",
    "        return similarity\n"
   ]
  },
  {
   "cell_type": "code",
   "execution_count": 3,
   "metadata": {},
   "outputs": [],
   "source": [
    "class MSMarcoDataset(Dataset):\n",
    "    def __init__(self, queries, documents, tokenizer, max_seq_len):\n",
    "        self.queries = queries\n",
    "        self.documents = documents\n",
    "        self.tokenizer = tokenizer\n",
    "        self.max_seq_len = max_seq_len\n",
    "\n",
    "    def __len__(self):\n",
    "        return len(self.queries)\n",
    "\n",
    "    def __getitem__(self, idx):\n",
    "        query = self.queries[idx]\n",
    "        document = self.documents[idx]\n",
    "\n",
    "        query_tokens = self.tokenizer(query)[:self.max_seq_len]\n",
    "        document_tokens = self.tokenizer(document)[:self.max_seq_len]\n",
    "\n",
    "        return query_tokens, document_tokens\n"
   ]
  },
  {
   "cell_type": "code",
   "execution_count": null,
   "metadata": {},
   "outputs": [],
   "source": [
    "chunking = False\n",
    "chunksize = 10 ** 5\n",
    "\n",
    "\n",
    "if chunking:\n",
    "    filepath = '/home/ubuntu/projects/cross-encoder-2/data/fulldocs.tsv'\n",
    "    data = pd.read_csv(filepath, sep='\\t', header=None, names=['query_id', 'query', 'passage_id', 'document'])\n",
    "\n",
    "    query_data = data['query'].tolist()\n",
    "    document_data = data['document'].tolist()\n",
    "\n",
    "    query_train, query_val, document_train, document_val = train_test_split(query_data, document_data, test_size=0.2, random_state=42)\n",
    "else:\n",
    "    \n",
    "    filepath = '/home/ubuntu/projects/cross-encoder-2/data/fulldocs.tsv'\n",
    "    data_iterator = pd.read_csv(filepath, sep='\\t', header=None, names=['query_id', 'query', 'passage_id', 'document'], chunksize=chunksize)\n",
    "    \n",
    "    query_data = []\n",
    "    document_data = []\n",
    "    \n",
    "    for chunk in data_iterator:\n",
    "        query_data.extend(chunk['query'].tolist())\n",
    "        document_data.extend(chunk['document'].tolist())\n",
    "    \n",
    "    query_train, query_val, document_train, document_val = train_test_split(query_data, document_data, test_size=0.2, random_state=42)\n",
    "    "
   ]
  },
  {
   "cell_type": "code",
   "execution_count": null,
   "metadata": {},
   "outputs": [],
   "source": [
    "def simple_tokenizer(text):\n",
    "    tokens = [ord(char) if ord(char) < 128 else 0 for char in text]\n",
    "    return torch.tensor(tokens, dtype=torch.long)\n"
   ]
  },
  {
   "cell_type": "code",
   "execution_count": null,
   "metadata": {},
   "outputs": [],
   "source": [
    "max_seq_len = 128\n",
    "\n",
    "train_dataset = MSMarcoDataset(query_train, document_train, simple_tokenizer, max_seq_len)\n",
    "val_dataset = MSMarcoDataset(query_val, document_val, simple_tokenizer, max_seq_len)\n"
   ]
  },
  {
   "cell_type": "code",
   "execution_count": null,
   "metadata": {},
   "outputs": [],
   "source": [
    "batch_size = 32\n",
    "\n",
    "def collate_fn(batch):\n",
    "    query_batch, doc_batch = zip(*batch)\n",
    "    query_batch = nn.utils.rnn.pad_sequence(query_batch, batch_first=True, padding_value=0)\n",
    "    doc_batch = nn.utils.rnn.pad_sequence(doc_batch, batch_first=True, padding_value=0)\n",
    "    return query_batch, doc_batch\n",
    "\n",
    "train_loader = DataLoader(train_dataset, batch_size=batch_size, shuffle=True, collate_fn=collate_fn)\n",
    "val_loader = DataLoader(val_dataset, batch_size=batch_size, shuffle=False, collate_fn=collate_fn)\n"
   ]
  },
  {
   "cell_type": "code",
   "execution_count": null,
   "metadata": {},
   "outputs": [],
   "source": [
    "input_size = 128\n",
    "hidden_size = 512\n",
    "num_layers = 2\n",
    "output_size = 1\n",
    "device = torch.device('cuda')\n",
    "model = CrossEncoder(input_size, hidden_size, num_layers, output_size)\n",
    "model.to(device)\n",
    "optimizer = optim.Adam(model.parameters(), lr=0.001)\n",
    "criterion = nn.BCELoss()\n"
   ]
  },
  {
   "cell_type": "code",
   "execution_count": null,
   "metadata": {},
   "outputs": [],
   "source": [
    "num_epochs = 20\n",
    "\n",
    "model_save_path = \"cross_encoder_checkpoint.pth\"\n",
    "\n",
    "start_epoch = 0\n",
    "\n",
    "if os.path.exists(model_save_path):\n",
    "    checkpoint = torch.load(model_save_path)\n",
    "    model.load_state_dict(checkpoint['model_state_dict'])\n",
    "    optimizer.load_state_dict(checkpoint['optimizer_state_dict'])\n",
    "    start_epoch = checkpoint['epoch'] + 1\n",
    "    print(f'Checkpoint loaded from {model_save_path}, resuming training from epoch {start_epoch}')\n",
    "\n",
    "\n",
    "for epoch in range(num_epochs):\n",
    "    model.train()\n",
    "    total_loss = 0\n",
    "\n",
    "    for batch in train_loader:\n",
    "        query_batch, document_batch = zip(*batch)\n",
    "        query_batch = nn.utils.rnn.pad_sequence(query_batch, batch_first=True).to(device)\n",
    "        document_batch = nn.utils.rnn.pad_sequence(document_batch, batch_first=True).to(device)\n",
    "\n",
    "        optimizer.zero_grad()\n",
    "        similarity = model(query_batch, document_batch)\n",
    "\n",
    "        loss = criterion(similarity, torch.ones(len(batch), dtype=torch.float)).to(device)\n",
    "        loss.backward()\n",
    "        optimizer.step()\n",
    "\n",
    "        total_loss += loss.item()\n",
    "\n",
    "    checkpoint = {\n",
    "        'epoch': epoch,\n",
    "        'model_state_dict': model.state_dict(),\n",
    "        'optimizer_state_dict': optimizer.state_dict()\n",
    "    }\n",
    "    torch.save(checkpoint, model_save_path)\n",
    "\n",
    "    print(f'Epoch {epoch + 1}/{num_epochs}, Loss: {total_loss / len(train_loader)}')\n",
    "    print(f'Checkpoint saved to {model_save_path} after epoch {epoch + 1}')\n",
    "\n",
    "\n"
   ]
  }
 ],
 "metadata": {
  "kernelspec": {
   "display_name": ".venv",
   "language": "python",
   "name": "python3"
  },
  "language_info": {
   "codemirror_mode": {
    "name": "ipython",
    "version": 3
   },
   "file_extension": ".py",
   "mimetype": "text/x-python",
   "name": "python",
   "nbconvert_exporter": "python",
   "pygments_lexer": "ipython3",
   "version": "3.10.6"
  },
  "orig_nbformat": 4
 },
 "nbformat": 4,
 "nbformat_minor": 2
}
